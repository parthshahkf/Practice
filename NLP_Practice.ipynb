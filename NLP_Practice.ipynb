{
  "nbformat": 4,
  "nbformat_minor": 0,
  "metadata": {
    "colab": {
      "name": "NLP_Practice.ipynb",
      "provenance": [],
      "collapsed_sections": []
    },
    "kernelspec": {
      "name": "python3",
      "display_name": "Python 3"
    },
    "language_info": {
      "name": "python"
    }
  },
  "cells": [
    {
      "cell_type": "markdown",
      "source": [
        "Observations"
      ],
      "metadata": {
        "id": "eQGJuZhpKc8R"
      }
    },
    {
      "cell_type": "markdown",
      "source": [
        "\n",
        "(1)Observed the names and merged the categories that I feel to be merged.\n",
        "\n",
        "(2)For text cleaning I have tested results with/without stopwords, with/without numerics . 'without' gives good results.\n",
        "\n",
        "(3)I have tested 3 columns individually : headline,description, authors. also checked combination of twos and found: combined all three is giving best result.\n",
        "\n"
      ],
      "metadata": {
        "id": "QX2QNyb_ID4l"
      }
    },
    {
      "cell_type": "code",
      "execution_count": 181,
      "metadata": {
        "id": "90xHGaDUKhvE"
      },
      "outputs": [],
      "source": [
        "import pandas as pd\n",
        "import re\n",
        "from nltk.corpus import stopwords\n",
        "from sklearn.model_selection import train_test_split\n",
        "from sklearn.metrics import confusion_matrix, classification_report,accuracy_score, precision_recall_fscore_support\n",
        "import csv"
      ]
    },
    {
      "cell_type": "code",
      "source": [
        "stopwards = [\"i\", \"me\", \"my\", \"myself\", \"we\", \"our\", \"ours\", \"ourselves\", \"you\", \"your\", \"yours\", \"yourself\", \"yourselves\", \"he\", \"him\", \"his\", \"himself\", \"she\", \"her\", \"hers\", \"herself\", \"it\", \"its\", \"itself\", \"they\", \"them\", \"their\", \"theirs\", \"themselves\", \"what\", \"which\", \"who\", \"whom\", \"this\", \"that\", \"these\", \"those\", \"am\", \"is\", \"are\", \"was\", \"were\", \"be\", \"been\", \"being\", \"have\", \"has\", \"had\", \"having\", \"do\", \"does\", \"did\", \"doing\", \"a\", \"an\", \"the\", \"and\", \"but\", \"if\", \"or\", \"because\", \"as\", \"until\", \"while\", \"of\", \"at\", \"by\", \"for\", \"with\", \"about\", \"against\", \"between\", \"into\", \"through\", \"during\", \"before\", \"after\", \"above\", \"below\", \"to\", \"from\", \"up\", \"down\", \"in\", \"out\", \"on\", \"off\", \"over\", \"under\", \"again\", \"further\", \"then\", \"once\", \"here\", \"there\", \"when\", \"where\", \"why\", \"how\", \"all\", \"any\", \"both\", \"each\", \"few\", \"more\", \"most\", \"other\", \"some\", \"such\", \"no\", \"nor\", \"not\", \"only\", \"own\", \"same\", \"so\", \"than\", \"too\", \"very\", \"s\", \"t\", \"can\", \"will\", \"just\", \"don\", \"should\", \"now\"]"
      ],
      "metadata": {
        "id": "8rIwBeEtsiK6"
      },
      "execution_count": 168,
      "outputs": []
    },
    {
      "cell_type": "code",
      "source": [
        "file =pd.read_json(\"/content/drive/MyDrive/News_Category_Dataset_v2.json\",lines=True,orient='columns')\n",
        "\n",
        "#concat 3 columns and consider them as input column\n",
        "file['concated'] = file['headline'] + ' ' + file['short_description'] + ' ' + file['authors']\n",
        "del file['link'],file['date'],file['headline'],file['short_description'],file['authors']"
      ],
      "metadata": {
        "id": "vL__sX-edaDp"
      },
      "execution_count": 169,
      "outputs": []
    },
    {
      "cell_type": "code",
      "source": [
        "#\n",
        "file.loc[file.category.isin(['CULTURE & ARTS','ARTS & CULTURE','ARTS']), 'category'] = 'ARTS'\n",
        "file.loc[file.category.isin(['EDUCATION','COLLEGE']), 'category'] = 'EDUCATION'\n",
        "file.loc[file.category.isin(['THE WORLDPOST','WORLDPOST','WORLD NEWS']), 'category'] = 'WORLDPOST'\n",
        "file.loc[file.category.isin(['STYLE & BEAUTY','STYLE']), 'category'] = 'STYLE'"
      ],
      "metadata": {
        "id": "9Iareerpmjqe"
      },
      "execution_count": 170,
      "outputs": []
    },
    {
      "cell_type": "code",
      "source": [
        "# Text Cleaning\n",
        "def text_preprocess(text):\n",
        "    text = text.lower()\n",
        "    text = text.split()\n",
        "    text = [word for word in text if word not in stopwards]\n",
        "    text = ' '.join(text)\n",
        "    text = re.sub(r'[^\\w\\s]', '', text)\n",
        "    text= re.sub('[0-9\\n]','',text)\n",
        "    text = text.strip()\n",
        "    text = re.sub(' +', ' ', text)    \n",
        "    return(text)\n",
        "file['concated'] = file['concated'].apply(text_preprocess)"
      ],
      "metadata": {
        "id": "_P9DhlfotgK-"
      },
      "execution_count": 171,
      "outputs": []
    },
    {
      "cell_type": "code",
      "source": [
        "file.head()"
      ],
      "metadata": {
        "colab": {
          "base_uri": "https://localhost:8080/",
          "height": 203
        },
        "id": "HJi2kHdk-0f3",
        "outputId": "ea91479d-cd2f-4207-af24-6847a88b015b"
      },
      "execution_count": 172,
      "outputs": [
        {
          "output_type": "execute_result",
          "data": {
            "text/html": [
              "\n",
              "  <div id=\"df-04a80fec-7ec6-4117-9e17-1319284bd2cf\">\n",
              "    <div class=\"colab-df-container\">\n",
              "      <div>\n",
              "<style scoped>\n",
              "    .dataframe tbody tr th:only-of-type {\n",
              "        vertical-align: middle;\n",
              "    }\n",
              "\n",
              "    .dataframe tbody tr th {\n",
              "        vertical-align: top;\n",
              "    }\n",
              "\n",
              "    .dataframe thead th {\n",
              "        text-align: right;\n",
              "    }\n",
              "</style>\n",
              "<table border=\"1\" class=\"dataframe\">\n",
              "  <thead>\n",
              "    <tr style=\"text-align: right;\">\n",
              "      <th></th>\n",
              "      <th>category</th>\n",
              "      <th>concated</th>\n",
              "    </tr>\n",
              "  </thead>\n",
              "  <tbody>\n",
              "    <tr>\n",
              "      <th>0</th>\n",
              "      <td>CRIME</td>\n",
              "      <td>mass shootings texas last week tv left husband...</td>\n",
              "    </tr>\n",
              "    <tr>\n",
              "      <th>1</th>\n",
              "      <td>ENTERTAINMENT</td>\n",
              "      <td>smith joins diplo nicky jam world cups officia...</td>\n",
              "    </tr>\n",
              "    <tr>\n",
              "      <th>2</th>\n",
              "      <td>ENTERTAINMENT</td>\n",
              "      <td>hugh grant marries first time age actor longti...</td>\n",
              "    </tr>\n",
              "    <tr>\n",
              "      <th>3</th>\n",
              "      <td>ENTERTAINMENT</td>\n",
              "      <td>jim carrey blasts castrato adam schiff democra...</td>\n",
              "    </tr>\n",
              "    <tr>\n",
              "      <th>4</th>\n",
              "      <td>ENTERTAINMENT</td>\n",
              "      <td>julianna margulies uses donald trump poop bags...</td>\n",
              "    </tr>\n",
              "  </tbody>\n",
              "</table>\n",
              "</div>\n",
              "      <button class=\"colab-df-convert\" onclick=\"convertToInteractive('df-04a80fec-7ec6-4117-9e17-1319284bd2cf')\"\n",
              "              title=\"Convert this dataframe to an interactive table.\"\n",
              "              style=\"display:none;\">\n",
              "        \n",
              "  <svg xmlns=\"http://www.w3.org/2000/svg\" height=\"24px\"viewBox=\"0 0 24 24\"\n",
              "       width=\"24px\">\n",
              "    <path d=\"M0 0h24v24H0V0z\" fill=\"none\"/>\n",
              "    <path d=\"M18.56 5.44l.94 2.06.94-2.06 2.06-.94-2.06-.94-.94-2.06-.94 2.06-2.06.94zm-11 1L8.5 8.5l.94-2.06 2.06-.94-2.06-.94L8.5 2.5l-.94 2.06-2.06.94zm10 10l.94 2.06.94-2.06 2.06-.94-2.06-.94-.94-2.06-.94 2.06-2.06.94z\"/><path d=\"M17.41 7.96l-1.37-1.37c-.4-.4-.92-.59-1.43-.59-.52 0-1.04.2-1.43.59L10.3 9.45l-7.72 7.72c-.78.78-.78 2.05 0 2.83L4 21.41c.39.39.9.59 1.41.59.51 0 1.02-.2 1.41-.59l7.78-7.78 2.81-2.81c.8-.78.8-2.07 0-2.86zM5.41 20L4 18.59l7.72-7.72 1.47 1.35L5.41 20z\"/>\n",
              "  </svg>\n",
              "      </button>\n",
              "      \n",
              "  <style>\n",
              "    .colab-df-container {\n",
              "      display:flex;\n",
              "      flex-wrap:wrap;\n",
              "      gap: 12px;\n",
              "    }\n",
              "\n",
              "    .colab-df-convert {\n",
              "      background-color: #E8F0FE;\n",
              "      border: none;\n",
              "      border-radius: 50%;\n",
              "      cursor: pointer;\n",
              "      display: none;\n",
              "      fill: #1967D2;\n",
              "      height: 32px;\n",
              "      padding: 0 0 0 0;\n",
              "      width: 32px;\n",
              "    }\n",
              "\n",
              "    .colab-df-convert:hover {\n",
              "      background-color: #E2EBFA;\n",
              "      box-shadow: 0px 1px 2px rgba(60, 64, 67, 0.3), 0px 1px 3px 1px rgba(60, 64, 67, 0.15);\n",
              "      fill: #174EA6;\n",
              "    }\n",
              "\n",
              "    [theme=dark] .colab-df-convert {\n",
              "      background-color: #3B4455;\n",
              "      fill: #D2E3FC;\n",
              "    }\n",
              "\n",
              "    [theme=dark] .colab-df-convert:hover {\n",
              "      background-color: #434B5C;\n",
              "      box-shadow: 0px 1px 3px 1px rgba(0, 0, 0, 0.15);\n",
              "      filter: drop-shadow(0px 1px 2px rgba(0, 0, 0, 0.3));\n",
              "      fill: #FFFFFF;\n",
              "    }\n",
              "  </style>\n",
              "\n",
              "      <script>\n",
              "        const buttonEl =\n",
              "          document.querySelector('#df-04a80fec-7ec6-4117-9e17-1319284bd2cf button.colab-df-convert');\n",
              "        buttonEl.style.display =\n",
              "          google.colab.kernel.accessAllowed ? 'block' : 'none';\n",
              "\n",
              "        async function convertToInteractive(key) {\n",
              "          const element = document.querySelector('#df-04a80fec-7ec6-4117-9e17-1319284bd2cf');\n",
              "          const dataTable =\n",
              "            await google.colab.kernel.invokeFunction('convertToInteractive',\n",
              "                                                     [key], {});\n",
              "          if (!dataTable) return;\n",
              "\n",
              "          const docLinkHtml = 'Like what you see? Visit the ' +\n",
              "            '<a target=\"_blank\" href=https://colab.research.google.com/notebooks/data_table.ipynb>data table notebook</a>'\n",
              "            + ' to learn more about interactive tables.';\n",
              "          element.innerHTML = '';\n",
              "          dataTable['output_type'] = 'display_data';\n",
              "          await google.colab.output.renderOutput(dataTable, element);\n",
              "          const docLink = document.createElement('div');\n",
              "          docLink.innerHTML = docLinkHtml;\n",
              "          element.appendChild(docLink);\n",
              "        }\n",
              "      </script>\n",
              "    </div>\n",
              "  </div>\n",
              "  "
            ],
            "text/plain": [
              "        category                                           concated\n",
              "0          CRIME  mass shootings texas last week tv left husband...\n",
              "1  ENTERTAINMENT  smith joins diplo nicky jam world cups officia...\n",
              "2  ENTERTAINMENT  hugh grant marries first time age actor longti...\n",
              "3  ENTERTAINMENT  jim carrey blasts castrato adam schiff democra...\n",
              "4  ENTERTAINMENT  julianna margulies uses donald trump poop bags..."
            ]
          },
          "metadata": {},
          "execution_count": 172
        }
      ]
    },
    {
      "cell_type": "markdown",
      "source": [
        "<h1>fasttext</h1>"
      ],
      "metadata": {
        "id": "H_XvrdLVAKFq"
      }
    },
    {
      "cell_type": "code",
      "source": [
        "! pip install fasttext\n",
        "import fasttext"
      ],
      "metadata": {
        "colab": {
          "base_uri": "https://localhost:8080/"
        },
        "id": "JhrJXJSo380D",
        "outputId": "038c62ef-4cb0-4bb0-efd6-aa4dd2d3cc36"
      },
      "execution_count": 173,
      "outputs": [
        {
          "output_type": "stream",
          "name": "stdout",
          "text": [
            "Requirement already satisfied: fasttext in /usr/local/lib/python3.7/dist-packages (0.9.2)\n",
            "Requirement already satisfied: numpy in /usr/local/lib/python3.7/dist-packages (from fasttext) (1.19.5)\n",
            "Requirement already satisfied: pybind11>=2.2 in /usr/local/lib/python3.7/dist-packages (from fasttext) (2.9.1)\n",
            "Requirement already satisfied: setuptools>=0.7.0 in /usr/local/lib/python3.7/dist-packages (from fasttext) (57.4.0)\n"
          ]
        }
      ]
    },
    {
      "cell_type": "code",
      "source": [
        "file['category_fasttext'] = '__label__' + file['category'].astype(str)\n",
        "X_train, X_test, y_train, y_test = train_test_split(file['concated'], file['category_fasttext'], test_size=0.25, random_state=42)"
      ],
      "metadata": {
        "id": "MCm64Jn6zGh6"
      },
      "execution_count": 174,
      "outputs": []
    },
    {
      "cell_type": "code",
      "source": [
        "traindf = pd.DataFrame()\n",
        "traindf['x'] = X_train\n",
        "traindf['y'] = y_train\n",
        "traindf.to_csv(r'pairings.txt', index=False, sep=' ', header=False, quoting=csv.QUOTE_NONE, quotechar=\"\", escapechar=\" \")"
      ],
      "metadata": {
        "id": "RZaf7xXQ0Cwu"
      },
      "execution_count": 175,
      "outputs": []
    },
    {
      "cell_type": "code",
      "source": [
        "model = fasttext.train_supervised(input=\"pairings.txt\")"
      ],
      "metadata": {
        "id": "TTr24Aso53iN"
      },
      "execution_count": 176,
      "outputs": []
    },
    {
      "cell_type": "code",
      "source": [
        "prediction = []\n",
        "for i in X_test:\n",
        "    pred = model.predict(i)[0][0]\n",
        "    prediction.append(pred)"
      ],
      "metadata": {
        "id": "Q1qlX1GW3pkA"
      },
      "execution_count": 177,
      "outputs": []
    },
    {
      "cell_type": "code",
      "source": [
        "confusion_matrix(y_test, prediction)"
      ],
      "metadata": {
        "colab": {
          "base_uri": "https://localhost:8080/"
        },
        "id": "oJeq3X6L5o7F",
        "outputId": "e03be528-fd9e-4996-e6d1-35c373d99070"
      },
      "execution_count": 178,
      "outputs": [
        {
          "output_type": "execute_result",
          "data": {
            "text/plain": [
              "array([[ 470,    0,   12, ...,   52,   24,   21],\n",
              "       [  37,    0,   19, ...,   30,   25,   11],\n",
              "       [   6,    0,  702, ...,  134,   21,   35],\n",
              "       ...,\n",
              "       [  10,    0,   56, ..., 3682,   26,    9],\n",
              "       [  16,    0,   24, ...,  118,  292,    8],\n",
              "       [  14,    0,   38, ...,   41,   15, 1407]])"
            ]
          },
          "metadata": {},
          "execution_count": 178
        }
      ]
    },
    {
      "cell_type": "code",
      "source": [
        "precision_recall_fscore_support(y_test, prediction, average='macro')"
      ],
      "metadata": {
        "colab": {
          "base_uri": "https://localhost:8080/"
        },
        "id": "B4oQRl1Y5o1r",
        "outputId": "fded986d-19ab-4b7f-8254-f1e30e9614a1"
      },
      "execution_count": 179,
      "outputs": [
        {
          "output_type": "stream",
          "name": "stderr",
          "text": [
            "/usr/local/lib/python3.7/dist-packages/sklearn/metrics/_classification.py:1318: UndefinedMetricWarning: Precision and F-score are ill-defined and being set to 0.0 in labels with no predicted samples. Use `zero_division` parameter to control this behavior.\n",
            "  _warn_prf(average, modifier, msg_start, len(result))\n",
            "/usr/local/lib/python3.7/dist-packages/sklearn/metrics/_classification.py:1318: UndefinedMetricWarning: Recall and F-score are ill-defined and being set to 0.0 in labels with no true samples. Use `zero_division` parameter to control this behavior.\n",
            "  _warn_prf(average, modifier, msg_start, len(result))\n"
          ]
        },
        {
          "output_type": "execute_result",
          "data": {
            "text/plain": [
              "(0.3731514051259989, 0.39238981542323237, 0.37424043630871684, None)"
            ]
          },
          "metadata": {},
          "execution_count": 179
        }
      ]
    },
    {
      "cell_type": "code",
      "source": [
        "print(classification_report(y_test, prediction))"
      ],
      "metadata": {
        "colab": {
          "base_uri": "https://localhost:8080/"
        },
        "id": "flhOsYMP7w9r",
        "outputId": "f57cbeb2-6308-4026-dec7-e733e0c7748d"
      },
      "execution_count": 180,
      "outputs": [
        {
          "output_type": "stream",
          "name": "stderr",
          "text": [
            "/usr/local/lib/python3.7/dist-packages/sklearn/metrics/_classification.py:1318: UndefinedMetricWarning: Precision and F-score are ill-defined and being set to 0.0 in labels with no predicted samples. Use `zero_division` parameter to control this behavior.\n",
            "  _warn_prf(average, modifier, msg_start, len(result))\n",
            "/usr/local/lib/python3.7/dist-packages/sklearn/metrics/_classification.py:1318: UndefinedMetricWarning: Recall and F-score are ill-defined and being set to 0.0 in labels with no true samples. Use `zero_division` parameter to control this behavior.\n",
            "  _warn_prf(average, modifier, msg_start, len(result))\n",
            "/usr/local/lib/python3.7/dist-packages/sklearn/metrics/_classification.py:1318: UndefinedMetricWarning: Precision and F-score are ill-defined and being set to 0.0 in labels with no predicted samples. Use `zero_division` parameter to control this behavior.\n",
            "  _warn_prf(average, modifier, msg_start, len(result))\n",
            "/usr/local/lib/python3.7/dist-packages/sklearn/metrics/_classification.py:1318: UndefinedMetricWarning: Recall and F-score are ill-defined and being set to 0.0 in labels with no true samples. Use `zero_division` parameter to control this behavior.\n",
            "  _warn_prf(average, modifier, msg_start, len(result))\n"
          ]
        },
        {
          "output_type": "stream",
          "name": "stdout",
          "text": [
            "                         precision    recall  f1-score   support\n",
            "\n",
            "          __label__ARTS       0.45      0.48      0.46       982\n",
            "  __label__BLACK VOICES       0.00      0.00      0.00      1113\n",
            "      __label__BUSINESS       0.43      0.49      0.46      1427\n",
            "        __label__COMEDY       0.43      0.47      0.45      1325\n",
            "         __label__CRIME       0.49      0.59      0.54       788\n",
            "       __label__DIVORCE       0.78      0.72      0.75       883\n",
            "     __label__EDUCATION       0.45      0.39      0.42       529\n",
            " __label__ENTERTAINMENT       0.56      0.74      0.63      3937\n",
            "   __label__ENVIRONMENT       0.51      0.20      0.29       343\n",
            "         __label__FIFTY       0.14      0.05      0.07       342\n",
            "  __label__FOOD & DRINK       0.00      0.00      0.00      1569\n",
            "     __label__GOOD NEWS       0.00      0.00      0.00       341\n",
            "         __label__GREEN       0.34      0.38      0.36       642\n",
            "__label__HEALTHY LIVING       0.00      0.00      0.00      1651\n",
            " __label__HOME & LIVING       0.00      0.00      0.00      1067\n",
            "        __label__IMPACT       0.32      0.30      0.31       891\n",
            " __label__LATINO VOICES       0.00      0.00      0.00       272\n",
            "         __label__MEDIA       0.52      0.39      0.44       683\n",
            "         __label__MONEY       0.55      0.36      0.44       432\n",
            "     __label__PARENTING       0.52      0.67      0.58      2196\n",
            "       __label__PARENTS       0.39      0.28      0.32       957\n",
            "      __label__POLITICS       0.67      0.84      0.74      8145\n",
            "         __label__QUEER       0.00      0.00      0.00         0\n",
            "  __label__QUEER VOICES       0.00      0.00      0.00      1600\n",
            "      __label__RELIGION       0.51      0.49      0.50       614\n",
            "       __label__SCIENCE       0.45      0.45      0.45       544\n",
            "        __label__SPORTS       0.67      0.71      0.69      1282\n",
            "         __label__STYLE       0.67      0.82      0.74      3035\n",
            "         __label__TASTE       0.22      0.56      0.32       554\n",
            "          __label__TECH       0.52      0.40      0.45       554\n",
            "        __label__TRAVEL       0.63      0.79      0.70      2529\n",
            "      __label__WEDDINGS       0.74      0.76      0.75       940\n",
            "    __label__WEIRD NEWS       0.00      0.00      0.00       639\n",
            "      __label__WELLNESS       0.53      0.84      0.65      4394\n",
            "         __label__WOMEN       0.33      0.33      0.33       894\n",
            "     __label__WORLDPOST       0.63      0.66      0.65      2120\n",
            "\n",
            "               accuracy                           0.56     50214\n",
            "              macro avg       0.37      0.39      0.37     50214\n",
            "           weighted avg       0.47      0.56      0.50     50214\n",
            "\n"
          ]
        },
        {
          "output_type": "stream",
          "name": "stderr",
          "text": [
            "/usr/local/lib/python3.7/dist-packages/sklearn/metrics/_classification.py:1318: UndefinedMetricWarning: Precision and F-score are ill-defined and being set to 0.0 in labels with no predicted samples. Use `zero_division` parameter to control this behavior.\n",
            "  _warn_prf(average, modifier, msg_start, len(result))\n",
            "/usr/local/lib/python3.7/dist-packages/sklearn/metrics/_classification.py:1318: UndefinedMetricWarning: Recall and F-score are ill-defined and being set to 0.0 in labels with no true samples. Use `zero_division` parameter to control this behavior.\n",
            "  _warn_prf(average, modifier, msg_start, len(result))\n"
          ]
        }
      ]
    }
  ]
}